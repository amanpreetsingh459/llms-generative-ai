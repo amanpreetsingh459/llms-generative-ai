{
 "cells": [
  {
   "cell_type": "code",
   "execution_count": 1,
   "id": "32cc72c4-3389-43f4-b2c2-da4982b5b634",
   "metadata": {},
   "outputs": [
    {
     "name": "stdout",
     "output_type": "stream",
     "text": [
      "[[1 2 3]\n",
      " [2 4 7]\n",
      " [2 4 5]]\n",
      "Rank of the above matrix: 2\n"
     ]
    }
   ],
   "source": [
    "import numpy as np\n",
    "\n",
    "def find_rank(matrix):\n",
    "  \"\"\"Finds the rank of a matrix.\n",
    "\n",
    "  Args:\n",
    "    matrix: A NumPy array representing the matrix.\n",
    "\n",
    "  Returns:\n",
    "    The rank of the matrix.\n",
    "  \"\"\"\n",
    "\n",
    "  return np.linalg.matrix_rank(matrix)\n",
    "\n",
    "# Example usage:\n",
    "\n",
    "matrix = np.array([[1, 2, 3], [2, 4, 7], [2, 4, 5]])\n",
    "\n",
    "rank = find_rank(matrix)\n",
    "print(matrix)\n",
    "print(\"Rank of the above matrix:\", rank)"
   ]
  },
  {
   "cell_type": "code",
   "execution_count": null,
   "id": "048b8194-33a8-4ba7-86bf-0e5a256b25b8",
   "metadata": {},
   "outputs": [],
   "source": []
  }
 ],
 "metadata": {
  "kernelspec": {
   "display_name": "Python 3 (ipykernel)",
   "language": "python",
   "name": "python3"
  },
  "language_info": {
   "codemirror_mode": {
    "name": "ipython",
    "version": 3
   },
   "file_extension": ".py",
   "mimetype": "text/x-python",
   "name": "python",
   "nbconvert_exporter": "python",
   "pygments_lexer": "ipython3",
   "version": "3.10.12"
  }
 },
 "nbformat": 4,
 "nbformat_minor": 5
}
